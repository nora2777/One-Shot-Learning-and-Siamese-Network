{
 "cells": [
  {
   "cell_type": "code",
   "execution_count": 15,
   "metadata": {},
   "outputs": [],
   "source": [
    "import glob\n",
    "import pandas as pd"
   ]
  },
  {
   "cell_type": "code",
   "execution_count": 16,
   "metadata": {},
   "outputs": [
    {
     "name": "stdout",
     "output_type": "stream",
     "text": [
      "40\n",
      "['165_417_08112019_0.jpg', '165_428_08112019_0.jpg', '169_1144_08112019_0.jpg', '169_1149_08112019_0.jpg', '169_1160_08112019_0.jpg', '173_938_08112019_0.jpg', '173_949_08112019_0.jpg', '173_965_08112019_0.jpg', '175_333_08112019_0.jpg', '175_340_08112019_0.jpg', '180_263_08112019_0.jpg', '180_270_08112019_0.jpg', '180_283_08112019_0.jpg', '180_815_11112019_18.jpg', '181_955_08112019_0.jpg', '181_962_08112019_0.jpg', '181_963_08112019_0.jpg', '183_500_11112019_18.jpg', '183_503_11112019_18.jpg', '183_518_08112019_0.jpg', '183_529_08112019_0.jpg', '183_540_08112019_0.jpg', '184_345_08112019_0.jpg', '184_349_08112019_0.jpg', '185_1003_11112019_17.jpg', '185_1144_08112019_0.jpg', '185_1151_08112019_0.jpg', '186_561_08112019_0.jpg', '186_570_08112019_0.jpg', '189_891_08112019_0.jpg', '189_901_08112019_0.jpg', '190_841_08112019_0.jpg', '190_852_08112019_0.jpg', '193_843_08112019_0.jpg', '193_844_08112019_0.jpg', '193_859_08112019_0.jpg', '194_1240_08112019_0.jpg', '194_1243_08112019_0.jpg', '195_1145_08112019_0.jpg', '195_1156_08112019_0.jpg']\n"
     ]
    }
   ],
   "source": [
    "images = glob.glob(\"*.jpg\")\n",
    "print(len(images))\n",
    "print(images)"
   ]
  },
  {
   "cell_type": "code",
   "execution_count": 17,
   "metadata": {},
   "outputs": [],
   "source": [
    "label=[\"img1\",\"img2\",\"class_\"]\n",
    "FaceNet_df = pd.DataFrame(columns = label)"
   ]
  },
  {
   "cell_type": "code",
   "execution_count": 18,
   "metadata": {},
   "outputs": [],
   "source": [
    "\n",
    "for image1 in images:\n",
    "    for image2 in images:\n",
    "        if image1[0:3]==image2[0:3]:\n",
    "            new_row = {'img1':image1, 'img2':image2, 'class_':1}\n",
    "            FaceNet_df = FaceNet_df.append(new_row, ignore_index=True)\n",
    "        else:\n",
    "            new_row = {'img1':image1, 'img2':image2, 'class_':0}\n",
    "            FaceNet_df = FaceNet_df.append(new_row, ignore_index=True)\n"
   ]
  },
  {
   "cell_type": "code",
   "execution_count": 19,
   "metadata": {},
   "outputs": [
    {
     "data": {
      "text/html": [
       "<div>\n",
       "<style scoped>\n",
       "    .dataframe tbody tr th:only-of-type {\n",
       "        vertical-align: middle;\n",
       "    }\n",
       "\n",
       "    .dataframe tbody tr th {\n",
       "        vertical-align: top;\n",
       "    }\n",
       "\n",
       "    .dataframe thead th {\n",
       "        text-align: right;\n",
       "    }\n",
       "</style>\n",
       "<table border=\"1\" class=\"dataframe\">\n",
       "  <thead>\n",
       "    <tr style=\"text-align: right;\">\n",
       "      <th></th>\n",
       "      <th>img1</th>\n",
       "      <th>img2</th>\n",
       "      <th>class_</th>\n",
       "    </tr>\n",
       "  </thead>\n",
       "  <tbody>\n",
       "    <tr>\n",
       "      <th>1549</th>\n",
       "      <td>195_1145_08112019_0.jpg</td>\n",
       "      <td>189_891_08112019_0.jpg</td>\n",
       "      <td>0</td>\n",
       "    </tr>\n",
       "    <tr>\n",
       "      <th>955</th>\n",
       "      <td>184_349_08112019_0.jpg</td>\n",
       "      <td>193_859_08112019_0.jpg</td>\n",
       "      <td>0</td>\n",
       "    </tr>\n",
       "    <tr>\n",
       "      <th>92</th>\n",
       "      <td>169_1144_08112019_0.jpg</td>\n",
       "      <td>180_283_08112019_0.jpg</td>\n",
       "      <td>0</td>\n",
       "    </tr>\n",
       "    <tr>\n",
       "      <th>421</th>\n",
       "      <td>180_263_08112019_0.jpg</td>\n",
       "      <td>183_540_08112019_0.jpg</td>\n",
       "      <td>0</td>\n",
       "    </tr>\n",
       "    <tr>\n",
       "      <th>1423</th>\n",
       "      <td>193_859_08112019_0.jpg</td>\n",
       "      <td>184_349_08112019_0.jpg</td>\n",
       "      <td>0</td>\n",
       "    </tr>\n",
       "  </tbody>\n",
       "</table>\n",
       "</div>"
      ],
      "text/plain": [
       "                         img1                    img2 class_\n",
       "1549  195_1145_08112019_0.jpg  189_891_08112019_0.jpg      0\n",
       "955    184_349_08112019_0.jpg  193_859_08112019_0.jpg      0\n",
       "92    169_1144_08112019_0.jpg  180_283_08112019_0.jpg      0\n",
       "421    180_263_08112019_0.jpg  183_540_08112019_0.jpg      0\n",
       "1423   193_859_08112019_0.jpg  184_349_08112019_0.jpg      0"
      ]
     },
     "execution_count": 19,
     "metadata": {},
     "output_type": "execute_result"
    }
   ],
   "source": [
    "FaceNet_Positive_df= FaceNet_df[FaceNet_df['class_']==1]\n",
    "FaceNet_Positive_df.head()\n",
    "\n",
    "FaceNet_Negative_df= FaceNet_df[FaceNet_df['class_']==0]\n",
    "FaceNet_Negative_df= FaceNet_Negative_df.sample(n = 118)\n",
    "FaceNet_Negative_df.head()\n",
    "\n"
   ]
  },
  {
   "cell_type": "code",
   "execution_count": 20,
   "metadata": {},
   "outputs": [
    {
     "name": "stdout",
     "output_type": "stream",
     "text": [
      "(118, 3)\n",
      "(118, 3)\n"
     ]
    }
   ],
   "source": [
    "print(FaceNet_Positive_df.shape)\n",
    "print(FaceNet_Negative_df.shape)"
   ]
  },
  {
   "cell_type": "code",
   "execution_count": 21,
   "metadata": {},
   "outputs": [],
   "source": [
    "FaceNet_df.to_csv(\"faceNetDataset.csv\")"
   ]
  },
  {
   "cell_type": "code",
   "execution_count": 22,
   "metadata": {},
   "outputs": [],
   "source": [
    "FaceNet_Positive_df.to_csv(\"faceNetDataset_P.csv\")\n",
    "FaceNet_Negative_df.to_csv(\"faceNetDataset_N.csv\")"
   ]
  },
  {
   "cell_type": "code",
   "execution_count": null,
   "metadata": {},
   "outputs": [],
   "source": []
  },
  {
   "cell_type": "code",
   "execution_count": null,
   "metadata": {},
   "outputs": [],
   "source": []
  }
 ],
 "metadata": {
  "kernelspec": {
   "display_name": "Python 3",
   "language": "python",
   "name": "python3"
  },
  "language_info": {
   "codemirror_mode": {
    "name": "ipython",
    "version": 3
   },
   "file_extension": ".py",
   "mimetype": "text/x-python",
   "name": "python",
   "nbconvert_exporter": "python",
   "pygments_lexer": "ipython3",
   "version": "3.7.7"
  }
 },
 "nbformat": 4,
 "nbformat_minor": 4
}
